{
  "nbformat": 4,
  "nbformat_minor": 0,
  "metadata": {
    "colab": {
      "name": "test.ipynb",
      "provenance": [],
      "collapsed_sections": [],
      "toc_visible": true
    },
    "kernelspec": {
      "name": "python3",
      "display_name": "Python 3"
    },
    "accelerator": "GPU"
  },
  "cells": [
    {
      "cell_type": "code",
      "metadata": {
        "id": "A8Yn-5YBOwHg"
      },
      "source": [
        "import cv2\n",
        "import numpy\n",
        "from keras.datasets import mnist\n",
        "from keras.models import Sequential\n",
        "from keras.layers import Dense\n",
        "from keras.layers import Dropout\n",
        "from keras.layers import Flatten\n",
        "from keras.layers.convolutional import Conv2D\n",
        "from keras.layers.convolutional import MaxPooling2D\n",
        "from keras.utils import np_utils\n",
        "from keras import backend as K\n",
        "K.set_image_data_format('channels_first')\n",
        "from keras.models import model_from_json"
      ],
      "execution_count": 1,
      "outputs": []
    },
    {
      "cell_type": "code",
      "metadata": {
        "id": "TOQTDYagOzDM"
      },
      "source": [
        "json_file = open('model_final.json', 'r')\n",
        "loaded_model_json = json_file.read()\n",
        "json_file.close()\n",
        "loaded_model = model_from_json(loaded_model_json)\n",
        "# load weights into new model\n",
        "loaded_model.load_weights(\"model_final.h5\")"
      ],
      "execution_count": 2,
      "outputs": []
    },
    {
      "cell_type": "code",
      "metadata": {
        "colab": {
          "base_uri": "https://localhost:8080/",
          "height": 303
        },
        "id": "LnirKdejO51F",
        "outputId": "60fb764a-ca86-4f95-ce6e-1447cbcd1c02"
      },
      "source": [
        "import cv2\n",
        "from google.colab.patches import cv2_imshow\n",
        "import numpy as np\n",
        "img = cv2.imread('test6.jpeg',cv2.IMREAD_GRAYSCALE)\n",
        "if img is not None:\n",
        "    img = ~img\n",
        "    img = cv2.GaussianBlur(img,(3,3),1000)\n",
        "    ret, thresh = cv2.threshold(img,127,255, cv2.THRESH_BINARY)\n",
        "    ctrs,_ = cv2.findContours(thresh, cv2.RETR_TREE, cv2.CHAIN_APPROX_SIMPLE)\n",
        "    rect = cv2.boundingRect(ctrs[0])\n",
        "\n",
        "    cnt = sorted(ctrs, key=lambda ctr: cv2.boundingRect(ctr)[0])\n",
        "    w=int(28)\n",
        "    h=int(28)\n",
        "    train_data=[]\n",
        "    rects=[]\n",
        "    for c in cnt :\n",
        "        x, y, w, h= cv2.boundingRect(c)\n",
        "        cv2.rectangle(img, (x,y),(x+w, y+h),(255,255,0),2)\n",
        "        rect=[x, y, w, h]\n",
        "        rects.append(rect)\n",
        "    cv2.circle(img, (1072, 209), 4, (255,0,0), 1)    \n",
        "    cv2_imshow(img)    \n",
        "    bool_rect=[]\n",
        "    for r in rects:\n",
        "        l=[]\n",
        "        for rec in rects:\n",
        "            flag=0\n",
        "            if rec!=r:\n",
        "                if r[0]<(rec[0]+rec[2]+10) and rec[0]<(r[0]+r[2]+10) and r[1]<(rec[1]+rec[3]+10) and rec[1]<(r[1]+r[3]+10):\n",
        "                    flag=1\n",
        "                l.append(flag)\n",
        "            if rec==r:\n",
        "                l.append(0)\n",
        "        bool_rect.append(l)\n",
        "\n",
        "    dump_rect=[]\n",
        "    for i in range(0,len(cnt)):\n",
        "        for j in range(0,len(cnt)):\n",
        "            if bool_rect[i][j]==1:\n",
        "                area1=rects[i][2]*rects[i][3]\n",
        "                area2=rects[j][2]*rects[j][3]\n",
        "                if(area1==min(area1,area2)):\n",
        "                    dump_rect.append(rects[i])\n",
        "\n",
        "    final_rect=[i for i in rects if i not in dump_rect]\n",
        "    for r in final_rect:\n",
        "        x=r[0]\n",
        "        y=r[1]\n",
        "        w=r[2]\n",
        "        h=r[3]\n",
        "        im_crop = thresh[y:y+h+10,x:x+w+10]\n",
        "        im_resize = cv2.resize(im_crop,(28,28))\n",
        "        im_resize=np.reshape(im_resize,(1,28,28))\n",
        "        train_data.append(im_resize)"
      ],
      "execution_count": 5,
      "outputs": [
        {
          "output_type": "display_data",
          "data": {
            "image/png": "[encoded data removed]",
            "text/plain": [
              "<PIL.Image.Image image mode=L size=1080x286 at 0x7EFD402017F0>"
            ]
          },
          "metadata": {
            "tags": []
          }
        }
      ]
    },
    {
      "cell_type": "code",
      "metadata": {
        "colab": {
          "base_uri": "https://localhost:8080/"
        },
        "id": "KYbNQonyO8Sc",
        "outputId": "cf0bf706-8d75-4a37-c305-3d0570aea26d"
      },
      "source": [
        "s=''\n",
        "for i in range(len(train_data)):\n",
        "    train_data[i]=np.array(train_data[i])\n",
        "    train_data[i]=train_data[i].reshape(1,1,28,28)\n",
        "    result=loaded_model.predict_classes(train_data[i])\n",
        "    print(result[0])\n",
        "    if(result[0]==10):\n",
        "        s=s+'-'\n",
        "    if(result[0]==11):\n",
        "        s=s+'+'\n",
        "    if(result[0]==12):\n",
        "        s=s+'*'\n",
        "    if(result[0]==0):\n",
        "        s=s+'0'\n",
        "    if(result[0]==1):\n",
        "        s=s+'1'\n",
        "    if(result[0]==2):\n",
        "        s=s+'2'\n",
        "    if(result[0]==3):\n",
        "        s=s+'3'\n",
        "    if(result[0]==4):\n",
        "        s=s+'4'\n",
        "    if(result[0]==5):\n",
        "        s=s+'5'\n",
        "    if(result[0]==6):\n",
        "        s=s+'6'\n",
        "    if(result[0]==7):\n",
        "        s=s+'7'\n",
        "    if(result[0]==8):\n",
        "        s=s+'8'\n",
        "    if(result[0]==9):\n",
        "        s=s+'9'\n",
        "    \n",
        "print(s)"
      ],
      "execution_count": 6,
      "outputs": [
        {
          "output_type": "stream",
          "text": [
            "WARNING:tensorflow:From <ipython-input-6-36da8d251a6f>:5: Sequential.predict_classes (from tensorflow.python.keras.engine.sequential) is deprecated and will be removed after 2021-01-01.\n",
            "Instructions for updating:\n",
            "Please use instead:* `np.argmax(model.predict(x), axis=-1)`,   if your model does multi-class classification   (e.g. if it uses a `softmax` last-layer activation).* `(model.predict(x) > 0.5).astype(\"int32\")`,   if your model does binary classification   (e.g. if it uses a `sigmoid` last-layer activation).\n",
            "2\n",
            "12\n",
            "3\n",
            "11\n",
            "4\n",
            "2*3+4\n"
          ],
          "name": "stdout"
        }
      ]
    },
    {
      "cell_type": "code",
      "metadata": {
        "colab": {
          "base_uri": "https://localhost:8080/"
        },
        "id": "IOBt4kuDO-Mz",
        "outputId": "1cf0e48c-b9fe-4a74-a598-06c7768b0b18"
      },
      "source": [
        "print(\"Result of the equations is : \",eval(s))\n"
      ],
      "execution_count": 7,
      "outputs": [
        {
          "output_type": "stream",
          "text": [
            "Result of the equations is :  10\n"
          ],
          "name": "stdout"
        }
      ]
    }
  ]
}