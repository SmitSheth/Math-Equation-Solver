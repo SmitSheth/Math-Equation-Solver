{
  "nbformat": 4,
  "nbformat_minor": 0,
  "metadata": {
    "kernelspec": {
      "display_name": "Python 3",
      "language": "python",
      "name": "python3"
    },
    "language_info": {
      "codemirror_mode": {
        "name": "ipython",
        "version": 3
      },
      "file_extension": ".py",
      "mimetype": "text/x-python",
      "name": "python",
      "nbconvert_exporter": "python",
      "pygments_lexer": "ipython3",
      "version": "3.6.5"
    },
    "colab": {
      "name": "data_extraction.ipynb",
      "provenance": []
    },
    "accelerator": "GPU"
  },
  "cells": [
    {
      "cell_type": "code",
      "metadata": {
        "id": "bteZKPC7cP-L"
      },
      "source": [
        "import numpy as np\n",
        "import cv2\n",
        "from PIL import Image\n",
        "from matplotlib import pyplot as plt\n",
        "%matplotlib inline\n",
        "import os\n",
        "from os import listdir\n",
        "from os.path import isfile, join\n",
        "import pandas as pd"
      ],
      "execution_count": 4,
      "outputs": []
    },
    {
      "cell_type": "code",
      "metadata": {
        "id": "ZqI9BxQ8cP-X"
      },
      "source": [
        "def load_images_from_folder(folder):\n",
        "    train_data=[]\n",
        "    for filename in os.listdir(folder):\n",
        "        img = cv2.imread(os.path.join(folder,filename),cv2.IMREAD_GRAYSCALE)\n",
        "        img=~img\n",
        "        if img is not None:\n",
        "            ret,thresh=cv2.threshold(img,127,255,cv2.THRESH_BINARY)\n",
        "            ret,ctrs,ret=cv2.findContours(thresh,cv2.RETR_EXTERNAL,cv2.CHAIN_APPROX_NONE)\n",
        "            cnt=sorted(ctrs, key=lambda ctr: cv2.boundingRect(ctr)[0])\n",
        "            w=int(28)\n",
        "            h=int(28)\n",
        "            maxi=0\n",
        "            for c in cnt:\n",
        "                x,y,w,h=cv2.boundingRect(c)\n",
        "                maxi=max(w*h,maxi)\n",
        "                if maxi==w*h:\n",
        "                    x_max=x\n",
        "                    y_max=y\n",
        "                    w_max=w\n",
        "                    h_max=h\n",
        "            im_crop= thresh[y_max:y_max+h_max+10, x_max:x_max+w_max+10]\n",
        "            im_resize = cv2.resize(im_crop,(28,28))\n",
        "            im_resize=np.reshape(im_resize,(784,1))\n",
        "            train_data.append(im_resize)\n",
        "    return train_data\n",
        "            \n",
        "                "
      ],
      "execution_count": 5,
      "outputs": []
    },
    {
      "cell_type": "code",
      "metadata": {
        "id": "c8gsbVzHcP-Z"
      },
      "source": [
        "data=[]"
      ],
      "execution_count": 6,
      "outputs": []
    },
    {
      "cell_type": "code",
      "metadata": {
        "colab": {
          "base_uri": "https://localhost:8080/"
        },
        "id": "2CTl4iPKcP-a",
        "outputId": "29b4e188-4b14-47c8-ac0b-88124b847fe1"
      },
      "source": [
        "#assign '-'=10\n",
        "data=load_images_from_folder('-')\n",
        "len(data)\n",
        "for i in range(0,len(data)):\n",
        "    data[i]=np.append(data[i],['10'])\n",
        "    \n",
        "print(len(data))\n"
      ],
      "execution_count": 7,
      "outputs": [
        {
          "output_type": "stream",
          "text": [
            "4152\n"
          ],
          "name": "stdout"
        }
      ]
    },
    {
      "cell_type": "code",
      "metadata": {
        "colab": {
          "base_uri": "https://localhost:8080/"
        },
        "id": "6S4liSqlcP-c",
        "outputId": "0ecbf969-b017-4a9f-946e-bdab80015803"
      },
      "source": [
        "#assign + = 11\n",
        "data11=load_images_from_folder('+')\n",
        "\n",
        "for i in range(0,len(data11)):\n",
        "    data11[i]=np.append(data11[i],['11'])\n",
        "data=np.concatenate((data,data11))\n",
        "print(len(data))\n"
      ],
      "execution_count": 8,
      "outputs": [
        {
          "output_type": "stream",
          "text": [
            "8184\n"
          ],
          "name": "stdout"
        }
      ]
    },
    {
      "cell_type": "code",
      "metadata": {
        "colab": {
          "base_uri": "https://localhost:8080/"
        },
        "id": "K-AF3NCtcP-d",
        "outputId": "683888aa-7bbd-49de-8e9f-396384254380"
      },
      "source": [
        "data0=load_images_from_folder('0')\n",
        "for i in range(0,len(data0)):\n",
        "    data0[i]=np.append(data0[i],['0'])\n",
        "data=np.concatenate((data,data0))\n",
        "print(len(data))"
      ],
      "execution_count": 9,
      "outputs": [
        {
          "output_type": "stream",
          "text": [
            "12018\n"
          ],
          "name": "stdout"
        }
      ]
    },
    {
      "cell_type": "code",
      "metadata": {
        "colab": {
          "base_uri": "https://localhost:8080/"
        },
        "id": "v1U6IRjtcP-d",
        "outputId": "442b76ae-a213-4276-fa6a-abb051add0f8"
      },
      "source": [
        "data1=load_images_from_folder('1')\n",
        "\n",
        "for i in range(0,len(data1)):\n",
        "    data1[i]=np.append(data1[i],['1'])\n",
        "data=np.concatenate((data,data1))\n",
        "print(len(data))\n"
      ],
      "execution_count": 10,
      "outputs": [
        {
          "output_type": "stream",
          "text": [
            "16074\n"
          ],
          "name": "stdout"
        }
      ]
    },
    {
      "cell_type": "code",
      "metadata": {
        "colab": {
          "base_uri": "https://localhost:8080/"
        },
        "id": "Bw1I7h7BcP-e",
        "outputId": "4c12debb-f59e-4922-9f7c-516e31523ad6"
      },
      "source": [
        "data2=load_images_from_folder('2')\n",
        "\n",
        "for i in range(0,len(data2)):\n",
        "    data2[i]=np.append(data2[i],['2'])\n",
        "data=np.concatenate((data,data2))\n",
        "print(len(data))\n"
      ],
      "execution_count": 11,
      "outputs": [
        {
          "output_type": "stream",
          "text": [
            "20334\n"
          ],
          "name": "stdout"
        }
      ]
    },
    {
      "cell_type": "code",
      "metadata": {
        "colab": {
          "base_uri": "https://localhost:8080/"
        },
        "id": "uTDvCK04cP-f",
        "outputId": "15f65cdd-62f9-41a0-eccf-02f4526775c0"
      },
      "source": [
        "data3=load_images_from_folder('3')\n",
        "\n",
        "for i in range(0,len(data3)):\n",
        "    data3[i]=np.append(data3[i],['3'])\n",
        "data=np.concatenate((data,data3))\n",
        "print(len(data))\n"
      ],
      "execution_count": 20,
      "outputs": [
        {
          "output_type": "stream",
          "text": [
            "23850\n"
          ],
          "name": "stdout"
        }
      ]
    },
    {
      "cell_type": "code",
      "metadata": {
        "colab": {
          "base_uri": "https://localhost:8080/"
        },
        "id": "wi4fOyz1cP-f",
        "outputId": "fa2d040d-10d4-4325-ef56-e0500906037d"
      },
      "source": [
        "data4=load_images_from_folder('4')\n",
        "\n",
        "for i in range(0,len(data4)):\n",
        "    data4[i]=np.append(data4[i],['4'])\n",
        "data=np.concatenate((data,data4))\n",
        "print(len(data))"
      ],
      "execution_count": 21,
      "outputs": [
        {
          "output_type": "stream",
          "text": [
            "27882\n"
          ],
          "name": "stdout"
        }
      ]
    },
    {
      "cell_type": "code",
      "metadata": {
        "colab": {
          "base_uri": "https://localhost:8080/"
        },
        "id": "G2cPcpyocP-g",
        "outputId": "4edc871a-b3cb-40e5-d6b1-5f630def7144"
      },
      "source": [
        "data5=load_images_from_folder('5')\n",
        "\n",
        "for i in range(0,len(data5)):\n",
        "    data5[i]=np.append(data5[i],['5'])\n",
        "data=np.concatenate((data,data5))\n",
        "print(len(data))\n"
      ],
      "execution_count": 12,
      "outputs": [
        {
          "output_type": "stream",
          "text": [
            "31426\n"
          ],
          "name": "stdout"
        }
      ]
    },
    {
      "cell_type": "code",
      "metadata": {
        "colab": {
          "base_uri": "https://localhost:8080/"
        },
        "id": "9OcUj7C1cP-h",
        "outputId": "9b9980ba-5e53-4047-b1f5-3ae2a1ec8cdb"
      },
      "source": [
        "data6=load_images_from_folder('6')\n",
        "\n",
        "for i in range(0,len(data6)):\n",
        "    data6[i]=np.append(data6[i],['6'])\n",
        "data=np.concatenate((data,data6))\n",
        "print(len(data))\n"
      ],
      "execution_count": 13,
      "outputs": [
        {
          "output_type": "stream",
          "text": [
            "34543\n"
          ],
          "name": "stdout"
        }
      ]
    },
    {
      "cell_type": "code",
      "metadata": {
        "colab": {
          "base_uri": "https://localhost:8080/"
        },
        "id": "QPVWk8BycP-h",
        "outputId": "3567e9dd-9def-4aa5-d9d3-25477c8fa5d1"
      },
      "source": [
        "# data7=load_images_from_folder('7')\n",
        "\n",
        "# for i in range(0,len(data7)):\n",
        "#     data7[i]=np.append(data7[i],['7'])\n",
        "# data=np.concatenate((data,data7))\n",
        "# print(len(data))\n"
      ],
      "execution_count": 14,
      "outputs": [
        {
          "output_type": "stream",
          "text": [
            "37351\n"
          ],
          "name": "stdout"
        }
      ]
    },
    {
      "cell_type": "code",
      "metadata": {
        "colab": {
          "base_uri": "https://localhost:8080/"
        },
        "id": "uoAsY7P_cP-i",
        "outputId": "626f5be6-36fc-4508-cf10-ef119fc26f5c"
      },
      "source": [
        "data8=load_images_from_folder('8')\n",
        "\n",
        "for i in range(0,len(data8)):\n",
        "    data8[i]=np.append(data8[i],['8'])\n",
        "data=np.concatenate((data,data8))\n",
        "print(len(data))\n"
      ],
      "execution_count": 15,
      "outputs": [
        {
          "output_type": "stream",
          "text": [
            "40581\n"
          ],
          "name": "stdout"
        }
      ]
    },
    {
      "cell_type": "code",
      "metadata": {
        "colab": {
          "base_uri": "https://localhost:8080/"
        },
        "id": "z2uPB2MzcP-i",
        "outputId": "0ca0f48f-eb93-474e-cfeb-0ddda5668e57"
      },
      "source": [
        "data9=load_images_from_folder('9')\n",
        "\n",
        "for i in range(0,len(data9)):\n",
        "    data9[i]=np.append(data9[i],['9'])\n",
        "data=np.concatenate((data,data9))\n",
        "print(len(data))\n"
      ],
      "execution_count": 16,
      "outputs": [
        {
          "output_type": "stream",
          "text": [
            "44254\n"
          ],
          "name": "stdout"
        }
      ]
    },
    {
      "cell_type": "code",
      "metadata": {
        "colab": {
          "base_uri": "https://localhost:8080/"
        },
        "id": "Nbo0YiZ7cP-j",
        "outputId": "048453b6-24f2-4798-9815-90b462523d0f"
      },
      "source": [
        "#assign * = 12\n",
        "data12=load_images_from_folder('times')\n",
        "\n",
        "for i in range(0,len(data12)):\n",
        "    data12[i]=np.append(data12[i],['12'])\n",
        "data=np.concatenate((data,data12))\n",
        "print(len(data))\n"
      ],
      "execution_count": 17,
      "outputs": [
        {
          "output_type": "stream",
          "text": [
            "47504\n"
          ],
          "name": "stdout"
        }
      ]
    },
    {
      "cell_type": "code",
      "metadata": {
        "id": "5a8GcmpicP-j"
      },
      "source": [
        "#Store the data to a csv file\n",
        "df=pd.DataFrame(data,index=None)\n",
        "df.to_csv('train_final.csv', index=False)\n"
      ],
      "execution_count": 22,
      "outputs": []
    },
    {
      "cell_type": "code",
      "metadata": {
        "id": "0buIsSB9cP-k"
      },
      "source": [
        ""
      ],
      "execution_count": null,
      "outputs": []
    }
  ]
}